{
 "cells": [
  {
   "cell_type": "code",
   "execution_count": 1,
   "id": "a6612be7",
   "metadata": {},
   "outputs": [
    {
     "name": "stdout",
     "output_type": "stream",
     "text": [
      "Hallo\n"
     ]
    }
   ],
   "source": [
    "print(\"Hallo\")"
   ]
  },
  {
   "cell_type": "code",
   "execution_count": 2,
   "id": "353fa886",
   "metadata": {},
   "outputs": [
    {
     "name": "stdout",
     "output_type": "stream",
     "text": [
      "test\n"
     ]
    }
   ],
   "source": [
    "print(\"test\")"
   ]
  },
  {
   "cell_type": "code",
   "execution_count": 3,
   "id": "1932f6f4",
   "metadata": {
    "scrolled": true
   },
   "outputs": [
    {
     "name": "stdout",
     "output_type": "stream",
     "text": [
      "Hallo Welt!\n",
      "ich lebe\n"
     ]
    }
   ],
   "source": [
    "print(\"Hallo Welt!\")\n",
    "print(\"ich lebe\")\n",
    "#das ist weerbung"
   ]
  },
  {
   "cell_type": "markdown",
   "id": "76136eee",
   "metadata": {},
   "source": [
    "ich bin ein **Text**"
   ]
  },
  {
   "cell_type": "code",
   "execution_count": 4,
   "id": "13e3d80f",
   "metadata": {},
   "outputs": [],
   "source": [
    "zahl = 15"
   ]
  },
  {
   "cell_type": "code",
   "execution_count": 6,
   "id": "094df974",
   "metadata": {},
   "outputs": [
    {
     "name": "stdout",
     "output_type": "stream",
     "text": [
      "15\n"
     ]
    }
   ],
   "source": [
    "print(zahl)"
   ]
  },
  {
   "cell_type": "code",
   "execution_count": null,
   "id": "c31297fc",
   "metadata": {},
   "outputs": [],
   "source": []
  }
 ],
 "metadata": {
  "kernelspec": {
   "display_name": "Python 3 (ipykernel)",
   "language": "python",
   "name": "python3"
  },
  "language_info": {
   "codemirror_mode": {
    "name": "ipython",
    "version": 3
   },
   "file_extension": ".py",
   "mimetype": "text/x-python",
   "name": "python",
   "nbconvert_exporter": "python",
   "pygments_lexer": "ipython3",
   "version": "3.10.9"
  }
 },
 "nbformat": 4,
 "nbformat_minor": 5
}
